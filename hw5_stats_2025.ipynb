{
  "cells": [
    {
      "cell_type": "markdown",
      "metadata": {},
      "source": [
        "# [Phystech@DataScience](https://thetahat.ru/courses/ph-ds-2025-spr)\n",
        "## Домашнее задание 10\n",
        "\n",
        "**Правила, <font color=\"red\">прочитайте внимательно</font>:**\n",
        "\n",
        "* Выполненную работу нужно отправить телеграм-боту `@thetahat_pds_bot`. Для начала работы с ботом каждый раз отправляйте `/start`. Дождитесь подтверждения от бота, что он принял файл. Если подтверждения нет, то что-то не так. **Работы, присланные иным способом, не принимаются.**\n",
        "* Дедлайн см. в боте. После дедлайна работы не принимаются кроме случаев наличия уважительной причины.\n",
        "* Прислать нужно **ноутбук в формате `ipynb`**. Если вы строите интерактивные графики, их стоит прислать в формате html.\n",
        "* Следите за размером файлов. **Бот не может принимать файлы весом более 20 Мб.** Если файл получается больше, заранее разделите его на несколько.\n",
        "* Выполнять задание необходимо полностью самостоятельно. **При обнаружении списывания всем участникам списывания дается штраф -2 балла к итоговой оценке за семестр.**\n",
        "* Решения, размещенные на каких-либо интернет-ресурсах, не принимаются. Кроме того, публикация решения в открытом доступе может быть приравнена к предоставлении возможности списать.\n",
        "* Обратите внимание на <a href=\"https://thetahat.ru/courses/ai-rules\"><b>правила использования ИИ-инструментов</b></a> при решении домашнего задания.\n",
        "* **Код из рассказанных на занятиях ноутбуков** можно использовать без ограничений.\n",
        "* Для выполнения задания используйте этот ноутбук в качестве основы, ничего не удаляя из него. Можно добавлять необходимое количество ячеек.\n",
        "* Комментарии к решению пишите в markdown-ячейках.\n",
        "* Выполнение задания (ход решения, выводы и пр.) должно быть осуществлено на русском языке.\n",
        "* Решение проверяется системой ИИ-проверки <a href=\"https://thetahat.ru/\"><img src=\"https://miptstats.github.io/theta_grader_small.png\" style=\"display: inline; vertical-align: middle;\"></a> **ThetaGrader**. Результат проверки валидируется и исправляется человеком, после чего комментарии отправляются студентам.\n",
        "* Если код будет не понятен проверяющему, оценка может быть снижена.\n",
        "* Никакой код из данного задания при проверке запускаться не будет. *Если код студента не выполнен, недописан и т.д., то он не оценивается.*\n",
        "\n",
        "<b><font size=\"5\" color=\"red\">Важно!!! Правила заполнения ноутбука:</font></b>\n",
        "* Запрещается удалять имеющиеся в ноутбуке ячейки, менять местами положения задач.\n",
        "* Сохраняйте естественный линейный порядок повествования в ноутбуке сверху-вниз.\n",
        "* Отвечайте на вопросы, а также добавляйте новые ячейки в предложенных местах, которые обозначены `<...>`.\n",
        "* В markdown-ячейках, содержащих описание задачи, находятся специальные отметки, которые <font color=\"red\"><b>запрещается модифицировать</b></font>.\n",
        "* При нарушении данных правил работа может получить 0 баллов.\n",
        "\n",
        "**Баллы за задание:**\n",
        "\n",
        "<b><font color=\"blue\">Легкая часть</font></b> (достаточно на \"хор\"):\n",
        "* Задача 1 &mdash; 20 баллов\n",
        "\n",
        "<b><font color=\"orange\">Сложная часть</font></b> (необходимо на \"отл\"):\n",
        "* Задача 2 &mdash; 30 баллов\n",
        "\n",
        "<b><font color=\"blue\">Легкая часть</font></b> (достаточно на \"хор\"):\n",
        "* Задача 3 &mdash; 35 баллов\n",
        "* Задача 4 &mdash; 30 баллов\n",
        "\n",
        "<b><font color=\"orange\">Сложная часть</font></b> (необходимо на \"отл\"):\n",
        "* Задача 5 &mdash; 25 баллов\n",
        "\n",
        "\n",
        "\n",
        "-----"
      ]
    },
    {
      "cell_type": "code",
      "execution_count": 1,
      "metadata": {},
      "outputs": [],
      "source": [
        "# Bot check\n",
        "\n",
        "# HW_ID: phds_hw10\n",
        "# Бот проверит этот ID и предупредит, если случайно сдать что-то не то.\n",
        "\n",
        "# Status: not final\n",
        "# Перед отправкой в финальном решении удали \"not\" в строчке выше.\n",
        "# Так бот проверит, что ты отправляешь финальную версию, а не промежуточную.\n",
        "# Никакие значения в этой ячейке не влияют на факт сдачи работы."
      ]
    },
    {
      "cell_type": "code",
      "execution_count": 2,
      "metadata": {
        "id": "pwOeZYydbPOU"
      },
      "outputs": [],
      "source": [
        "import pandas as pd\n",
        "import numpy as np\n",
        "import scipy.stats as sps\n",
        "import matplotlib.pyplot as plt\n",
        "import seaborn as sns\n",
        "\n",
        "from scipy.special import gamma, loggamma\n",
        "\n",
        "sns.set_style(\"whitegrid\")\n",
        "\n",
        "%matplotlib inline"
      ]
    },
    {
      "cell_type": "markdown",
      "metadata": {
        "id": "d8Q8Vda0J1LB"
      },
      "source": [
        "## Теоретическая часть\n",
        "### <b><i><font color=\"blue\">Легкая часть</font></i></b> "
      ]
    },
    {
      "cell_type": "markdown",
      "metadata": {
        "id": "-wCMvSpMJ1LB"
      },
      "source": [
        "### Задание 1\n",
        "\n",
        "Пусть $x_1, \\dots, x_n$ &mdash; реализация выборки, $X^{*}_1, X^{*}_2, \\dots, X^{*}_n$ &mdash; построенная по ней бутстрепная выборка. С какой вероятностью элемент $x_i$ исходной выборки попадёт в бутстрепную? Посчитайте среднее число уникальных (попарно различных) элементов в бутстрепной выборке, если в исходной выборке все элементы различны? К какой функции от $n$ стремится это количество при $n \\rightarrow \\infty$?\n"
      ]
    },
    {
      "cell_type": "markdown",
      "metadata": {},
      "source": [
        "Бутстрепная выборка $X_1^{*}, X_2^{*},. . . ,X_n^{*}$ строится из реализации исходной выборки с возвращением. Тогда вероятность выбрать элемент $x_i$ есть $\\frac{1}{n}, \\\\ \\forall i = 1, ..., n$. Тогда веротяность не выбрать элемент $x_i$ для одного испытания есть $P$(не выбрать $x_i$) = $1 - \\frac{1}{n}$. Тогда вероятность не выбрать элемент $x_i$ ни разу за $n$ выборов есть $P$(не выбрать $x_i$ ни разу) = $(1-\\frac{1}{n})^n$. Тогда вероятность выбрать элемент $x_i$ хотя бы один раз есть $P$($x_i$ попал в бутстрепную выборку) = $1 - (1-\\frac{1}{n})^n$.\n",
        "\n",
        "Найдем математическое ожидание (среднее) числа уникальных элементов в бутстрепной выборке. \n",
        "Пусть $I_i$ - индикатор элемента $x_i$, то есть $I_i = 1$, если $x_i$ попал в бутстрепную выборку и $I_i = 0$, если $x_i$ не попал в бутстрепную выборку. Тогда число уникальных элементов в бутстрепной выборке есть $N = \\displaystyle\\sum_{i=1}^{n} I_i$. Тогда искомое математическое ожидание есть \n",
        "\\begin{equation*}\n",
        "\\mathbb{E}[N] = \\mathbb{E}\\Big[\\displaystyle\\sum_{i=1}^{n} I_i\\Big] =\\displaystyle\\sum_{i=1}^{n}\\mathbb{E}[I_i] = n\\mathbb{E}[I_i],\n",
        "\\end{equation*}\n",
        "где $\\mathbb{E}[I_i] =$ $P$($x_i$ попал в бутстрепную выборку) = $1 - \\Big(1-\\frac{1}{n}\\Big)^n$, $\\forall i = 1,...,n$. Тогда\n",
        "\\begin{equation*}\n",
        "\\mathbb{E}[N] = n\\Big[1 - \\Big(1-\\frac{1}{n}\\Big)^n\\Big].\n",
        "\\end{equation*}\n",
        "\n",
        "Если теперь устремить размер выборки к бесконечности, то получим \n",
        "\\begin{equation*}\n",
        "\\lim\\limits_{n \\to \\infty} \\mathbb{E}[N] = \\lim\\limits_{n \\to \\infty}n\\Big[1 - \\Big(1-\\frac{1}{n}\\Big)^n\\Big] = n\\Big(1 - \\frac{1}{e}\\Big) \\approx 0.623n.\n",
        "\\end{equation*}"
      ]
    },
    {
      "cell_type": "markdown",
      "metadata": {
        "id": "od4vuw6aJ1LC"
      },
      "source": [
        "### <b><i><font color=\"orange\">Сложная часть</font></i></b>\n"
      ]
    },
    {
      "cell_type": "markdown",
      "metadata": {
        "id": "YFeHj5-kcNbS"
      },
      "source": [
        "### Задание 2\n",
        "\n",
        "Рассмотрим модель линейной регрессии\n",
        "\n",
        "$$Y = X \\theta + ɛ,$$\n",
        "\n",
        "где $Y \\in \\mathbb{R}^n$ - отклик, $X \\in \\mathbb{R}^{n \\times d}$, $\\theta \\in \\mathbb{R}^d$, $ɛ \\in \\mathbb{R}^n$ - шум, $n > d$, $rk X = d$.\n",
        "\n",
        "Будем рассматривать нормальный и гомоскедастичный шум, т.е. $ɛ \\sim \\mathcal{N}(0, 1)$\n",
        "\n",
        "1. Получите выражение для функции правдоподобия в данной модели. Минимизации какой функции потерь эквивалента максимизация правдоподобия в данной задаче?\n",
        "2. Найдите оценку максимального правдоподобия для $(\\theta, \\sigma^2)$.\n",
        "\n",
        "3. Пусть $x_{new} \\in \\mathbb{R}^{d}$ - новый объект. Постройте асимптотический доверительный интервал для ожидаемого значения отклика на этом объекте $y_{new} = x_{new}^T \\theta$.\n",
        "    <br>*Указание:* используя модель регрессии, получите распределение, которое имеет величина $\\widehat{\\theta}_{\\text{МНК}}$. Учитывая свойства, данные в домашнем задании №6, получите распределение для  $x_{new}^T\\widehat{\\theta}_{\\text{МНК}}$. Считая величину $\\sigma^2$ известной, запишите интервал. Далее замените дисперсию $\\sigma^2$ на ее состоятельную оценку.\n",
        "\n",
        "4. Также постройте точный доверительный интервал для ожидаемого значения отклика на том же новом объекте $x_{new}$."
      ]
    },
    {
      "cell_type": "markdown",
      "metadata": {},
      "source": [
        "1. Т.к. шум $\\varepsilon_i \\sim \\mathcal{N}(0, 1)$, а $Y = X\\theta + \\varepsilon$, то $y_i \\sim \\mathcal{N}(x_i^T\\theta, \\sigma^2)$. Тогда можем записать плотность распределения $y_i$\n",
        "\\begin{equation*}\n",
        "f(y_i|\\theta, \\sigma^2) = \\frac{1}{\\sqrt{2\\pi\\sigma^2}} \\cdot exp\\Big(-\\frac{(y_i -x_i^T\\theta)^2}{\\sigma^2}\\Big).\n",
        "\\end{equation*}\n",
        "Тогда функция правдоподобия для всех выборки имеет вид\n",
        "\\begin{equation*}\n",
        "\\mathcal{L}(\\theta, \\sigma^2) = \\displaystyle\\prod_{i=1}^{n}f(y_i|\\theta, \\sigma^2) = \\displaystyle\\prod_{i=1}^{n}\\frac{1}{\\sqrt{2\\pi\\sigma^2}} \\cdot exp\\Big(-\\frac{(y_i -x_i^T\\theta)^2}{\\sigma^2}\\Big).\n",
        "\\end{equation*}\n",
        "Логарифмируем\n",
        "\\begin{equation*}\n",
        "\\ln \\mathcal{L}(\\theta, \\sigma^2) = -\\frac{n}{2}\\ln 2\\pi -\\frac{n}{2}\\ln \\sigma^2 - \\frac{1}{2\\sigma^2}\\displaystyle\\sum_{i=1}^{n}(y_i -x_i^T\\theta)^2.\n",
        "\\end{equation*}\n",
        "Легко видеть, что максимизация $\\ln \\mathcal{L}(\\theta, \\sigma^2)$, а значит и $\\mathcal{L}(\\theta, \\sigma^2)$ эквивалента минимизации суммы квадратов ошибок $\\displaystyle\\sum_{i=1}^{n}(y_i -x_i^T\\theta)^2$, то есть минимизации MSE. \n",
        "2. Найдем ОМП для $\\theta$ и $\\sigma^2$:\n",
        "\\begin{equation*}\n",
        "\\frac{\\partial }{\\partial \\theta}\\displaystyle\\sum_{i=1}^{n}(y_i -x_i^T\\theta)^2 = -2X^T(Y-X\\hat{\\theta}) = 0, \n",
        "\\end{equation*}\n",
        "откуда $X^TY = X^TX\\hat{\\theta}$, а значит $\\hat{\\theta} = (X^TX)^{-1}X^TY$, т.е. воспользовались тем, что $\\hat{\\theta} = \\widehat{\\theta}_{\\text{МНК}}$.\n",
        "\n",
        "\\begin{equation*}\n",
        "\\frac{\\partial \\ln \\mathcal{L}}{\\partial \\sigma^2} = -\\frac{n}{2\\hat{\\sigma}^2} + \\frac{1}{2\\hat{\\sigma}^4}\\displaystyle\\sum_{i=1}^{n}(y_i -x_i^T\\hat{\\theta})^2 = 0, \n",
        "\\end{equation*}\n",
        "откуда $\\hat{\\sigma}^2 = \\frac{1}{n}\\displaystyle\\sum_{i=1}^{n}(y_i -x_i^T\\hat{\\theta})^2$.\n",
        "\n",
        "3. Так как $\\varepsilon \\sim \\mathcal{N}(0, 1)$, то $\\widehat{\\theta}_{\\text{МНК}} \\sim \\mathcal{N}(\\theta, \\sigma^2(X^TX)^{-1})$. Тогда $x_{new}^T \\widehat{\\theta}_{\\text{МНК}} \\sim \\mathcal{N}(x_{new}^T\\theta, \\sigma^2 x_{new}^T(X^TX)^{-1}x_{new})$. Доверительный интервал при известной $\\sigma$ при этом имеет вид  $x_{new}^T \\widehat{\\theta}_{\\text{МНК}}  \\pm z_{\\frac{1-\\alpha}{2}} \\cdot \\sigma \\sqrt{x_{new}^T(X^TX)^{-1}x_{new}}$, где $z_{\\frac{1-\\alpha}{2}}$ - квантиль нормального распределения. Оценка $\\hat{\\sigma}^2$ состоятельная, поэтому для асимптотического доверительного интервала получаем $x_{new}^T \\widehat{\\theta}_{\\text{МНК}}  \\pm z_{\\frac{1-\\alpha}{2}} \\cdot \\hat{\\sigma} \\sqrt{x_{new}^T(X^TX)^{-1}x_{new}}$.\n",
        "\n",
        "4. Точный доверительный интервал:  $$y_{new} = x_{new}^T \\theta \\in \\Big(x_{new}^T\\hat{\\theta}_{ОМП} \\pm T_{n-d, \\frac{1+\\alpha}{2}}\\frac{\\sqrt{(Y-X\\theta)^T(Y-X\\theta)}\\sqrt{x_{new}^T(X^TX)^{-1} x_{new}}}{\\sqrt{n(n-d)}}\\Big)$$, где $ T_{n-d, \\frac{1+\\alpha}{2}}$ - квантиль распределения стьюдента с $n-d$ степенями свободы, а оценка $\\hat{\\sigma}$ уже подставлена в матричном виде: \n",
        "$\\hat{\\sigma} = \\sqrt{\\frac1n (Y-X\\theta)^T(Y-X\\theta)}$."
      ]
    },
    {
      "cell_type": "markdown",
      "metadata": {
        "id": "atZ399yebzJ7"
      },
      "source": [
        "## Практическая часть\n",
        "### <b><i><font color=\"blue\">Легкая часть</font></i></b> \n",
        "### Задание 3\n",
        "Cкачайте данные <a href=\"http://archive.ics.uci.edu/ml/datasets/wine\">`wine dataset`</a> и рассмотрите столбцы `Alcalinity of ash`, `Nonflavanoid phenols`, `Proanthocyanins` и `Hue` для вина *первого типа*. Тип вина указан в первом столбце. Для работы с табличными данными используйте библиотеку `pandas`.\n",
        "\n",
        "Постройте доверительные интервалы для параметров сдвига каждого из столбцов, предполагая, что столбцы имеют нормальное распределение.\n",
        "Требуется построить:\n",
        " * асимтотические доверительные интервалы при помощи центральной предельной теоремы;\n",
        " * точные неасимптотические при помощи распределений хи-квадрат, Стьюдента.\n",
        "\n",
        "\n",
        " Запишите их в виде таблицы."
      ]
    },
    {
      "cell_type": "code",
      "execution_count": null,
      "metadata": {
        "id": "uOUuOB8WbzJ7",
        "scrolled": true
      },
      "outputs": [],
      "source": [
        "\n"
      ]
    },
    {
      "cell_type": "markdown",
      "metadata": {
        "id": "RtyJNb4vbzJ7"
      },
      "source": [
        "Сделайте выводы по полученной таблице."
      ]
    },
    {
      "cell_type": "markdown",
      "metadata": {
        "id": "dABEgOOxbzJ7"
      },
      "source": [
        "**Вывод:**"
      ]
    },
    {
      "cell_type": "markdown",
      "metadata": {},
      "source": [
        "### Задание 4\n",
        "\n",
        "**Профиль Физика**\n",
        "\n",
        "Скачайте <a target=\"_blank\" href=\"https://www.kaggle.com/datasets/fedesoriano/cern-electron-collision-data\">данные</a> столкновениях частиц и оставьте следующие признаки:\n",
        "* `E1`, `E2` &mdash; полная энергия электронов (ГэВ);\n",
        "* `M` &mdash; инвариантная масса двух электронов (ГэВ).\n",
        "\n",
        "Датасет большой, поэтому для ускорения расчетов можно взять подвыборку размера ~ 1000 \n",
        "\n",
        "**Профиль биология**\n",
        "\n",
        "Скачайте <a target=\"_blank\" href=\"https://www.kaggle.com/datasets/ruslankl/mice-protein-expression\">данные</a> экспрессии белков у белых мышей и оставьте следующие белки для анализа:\n",
        "* `ITSN1_N`\n",
        "* `DYRK1A_N`\n",
        "* `ELK_N`\n",
        "\n",
        "\n",
        "\n",
        "\n",
        "**1.** Постройте для каждого из них гистограммы. Что можно сказать о характере распределения?\n"
      ]
    },
    {
      "cell_type": "code",
      "execution_count": null,
      "metadata": {},
      "outputs": [],
      "source": [
        "df = pd.read_csv(\"your/data/path\")"
      ]
    },
    {
      "cell_type": "markdown",
      "metadata": {},
      "source": [
        "**Ответ:** "
      ]
    },
    {
      "cell_type": "markdown",
      "metadata": {},
      "source": [
        "**2.** Пусть есть выборка $X_1, ..., X_n$. Опишите процедуру бутстрепа построения доверительного интервала для величины $\\theta = \\mathsf{E} X_1$. Рассмотрите три типа  бутстрепных доверительных интервалов.\n",
        "Выпишите соответствующие формулы. "
      ]
    },
    {
      "cell_type": "markdown",
      "metadata": {},
      "source": [
        "**Описание**:\n"
      ]
    },
    {
      "cell_type": "markdown",
      "metadata": {},
      "source": [
        "**3.** Реализуйте функцию вычисления выборки оценок $\\theta^*_1, \\ldots \\theta^*_B$ для оценки $\\widehat \\theta$ методом бутстрепа. Функция должна принимать на вход выборку и количество бутстрепных выборок $B$. \n",
        "\n",
        "Для ускорения расчетов можете использовать broadcasting (не является обязательным требованием). Учите, что в таком случае внутри функции у вас могут получиться очень большие матрицы, из-за которых может кончиться оперативная память. "
      ]
    },
    {
      "cell_type": "code",
      "execution_count": null,
      "metadata": {},
      "outputs": [],
      "source": [
        "def bootstrap(sample, B=100_000): \n",
        "    '''\n",
        "    Считает бутстрепные оценки для исходной выборки\n",
        "\n",
        "    :param sample: исходная выборка\n",
        "    :param B: количество бутстрепных \n",
        "    :return bootstrap_estimations: оценки по бутстрепным выборкам\n",
        "    '''   \n",
        "    \n",
        "    return\n"
      ]
    },
    {
      "cell_type": "markdown",
      "metadata": {},
      "source": [
        "**4.** Реализуйте три типа бутстрепных доверительных интервалы в виде функций, принимающих на вход выборку оценок, полученных с помощью бутстрепа. Реализовывать вычисление бутстрепных интервалов для подвыборок размера от 1 до n не нужно, только для всей выборки. "
      ]
    },
    {
      "cell_type": "code",
      "execution_count": null,
      "metadata": {},
      "outputs": [],
      "source": [
        "def bootstrap_normal_confidence_interval(theta, bootstrap_estimations, alpha=0.95):\n",
        "    '''\n",
        "    Считает левую и правую границу нормального бутстрепного интервала\n",
        "\n",
        "    :param theta: оценка параметра\n",
        "    :param bootstrap_estimations: массив бутстрепных оценок\n",
        "    :return left: левая граница бутстрепного интервала\n",
        "    :return right: правая граница бутстрепного интервала\n",
        "    '''   \n",
        "\n",
        "    return\n",
        "\n",
        "    \n",
        "def bootstrap_central_confidence_interval(theta, bootstrap_estimations, alpha=0.95):\n",
        "    '''\n",
        "    Считает левую и правую границу центрального бутстрепного интервала\n",
        "\n",
        "    :param theta: оценка параметра\n",
        "    :param bootstrap_estimations: массив бутстрепных оценок\n",
        "    :return left: левая граница бутстрепного интервала\n",
        "    :return right: правая граница бутстрепного интервала\n",
        "    '''   \n",
        "\n",
        "    return\n",
        "\n",
        "    \n",
        "def bootstrap_quantile_confidence_interval(theta, bootstrap_estimations, alpha=0.95):\n",
        "    '''\n",
        "    Считает левую и правую границу квантильного бутстрепного интервала\n",
        "\n",
        "    :param theta: оценка параметра\n",
        "    :param bootstrap_estimations: массив бутстрепных оценок\n",
        "    :return left: левая граница бутстрепного интервала\n",
        "    :return right: правая граница бутстрепного интервала\n",
        "    '''   \n",
        "    \n",
        "    return"
      ]
    },
    {
      "cell_type": "markdown",
      "metadata": {},
      "source": [
        "**5.** Для каждого признака постройте бутстрепные доверительные интервалы для $\\theta = \\mathsf{E} X_1$ и сравните их."
      ]
    },
    {
      "cell_type": "code",
      "execution_count": null,
      "metadata": {},
      "outputs": [],
      "source": [
        "data = pd.DataFrame(index = ['normal', 'central', 'quantile', 'theta', 'interval_length'], columns=df.columns)"
      ]
    },
    {
      "cell_type": "markdown",
      "metadata": {},
      "source": [
        "**Вывод:** "
      ]
    },
    {
      "cell_type": "markdown",
      "metadata": {},
      "source": [
        "Визуализируйте бутстрепные интервалы для каждого признака. Для этого сгенерируйте выборку $X_1, ... X_{N}, N = 100$ и постройте график доверительных интервалов уровня доверия $0.95$, вычисленных для всех подвыборок размера $n$ вида $X_1, ... X_n$, $1 \\le n \\le 100$, используя написанную ниже функцию"
      ]
    },
    {
      "cell_type": "code",
      "execution_count": null,
      "metadata": {},
      "outputs": [],
      "source": [
        "def draw_confidence_interval(\n",
        "    left,\n",
        "    right,\n",
        "    estimation=None,\n",
        "    sample=None, \n",
        "    ylim=(None, None), \n",
        "    estim_label = '',\n",
        "    sample_label='',\n",
        "    color=None,\n",
        "    interval_label=None\n",
        "):\n",
        "    '''\n",
        "    Рисует доверительный интервал и оценку в зависимости от размера выборки.\n",
        "    \n",
        "    :param left: левые границы интервалов (в зависимости от n)\n",
        "    :param right: правые границы интервалов (в зависимости от n)\n",
        "    :param estimation: оценки (в зависимости от n)\n",
        "    :param sample: выборка\n",
        "    :param ylim: ограничение вертикальной оси\n",
        "    :param estim_label: подпись к оценке\n",
        "    :param sample_label: подпись к выборке\n",
        "    :param color: цвет, которым будет отображен доверительный интервал\n",
        "    '''\n",
        "    \n",
        "    return\n",
        "    "
      ]
    },
    {
      "cell_type": "markdown",
      "metadata": {},
      "source": [
        "**Решение:**"
      ]
    },
    {
      "cell_type": "code",
      "execution_count": null,
      "metadata": {},
      "outputs": [],
      "source": []
    },
    {
      "cell_type": "markdown",
      "metadata": {},
      "source": [
        "**Вывод:** "
      ]
    },
    {
      "cell_type": "markdown",
      "metadata": {},
      "source": [
        "### <b><i><font color=\"orange\">Сложная часть</font></i></b>\n",
        "### Задача 5\n",
        "Как мы помним, асимпотические доверительные интервалы ничего не могут гарантировать на малых размерах выборки, а что насчет точных доверительных интервалов? В этом задании вновь необходимо посчитать реальный уровень доверия.\n",
        "\n",
        "Допустим, вы хотите оценить реальный уровень доверия интервала для $a$, если $X \\sim \\mathcal{N}(a, \\sigma^2)$.\n",
        "\n",
        "- Фиксируете истинные $(a, \\sigma^2)$, для которых будете делать оценку\n",
        "- Генерируете $B$ выборок из $\\mathcal{N}(a, \\sigma^2)$ с зафиксированными параметрами\n",
        "- По каждой выборке получаете ДИ для $a$ \n",
        "- Считаете долю случаев, когда истинное $a$ попадает в интервал\n",
        "\n",
        "Эта доля и будет оценкой доли покрытия интервала.\n",
        "\n",
        "**Важно:** вы симулируете реальную ситуацию, когда вы не знаете ни $a$, ни $\\sigma$, поэтому в формулах для ДИ их **использовать нельзя**!\n",
        "\n",
        "**Важно:** при такой оценке реального уровня доверия вы используете метод Монте-Карло. Погрешность этого метода составляет $\\sim \\frac{1}{\\sqrt{n}}$, где $n$ - количество выборок, по которым осуществляется оценка. \n",
        "\n",
        "*Вопрос:* какое $n$ нужно брать, если вы хотите оценить реальный уровень доверия с точностью до 2 знаков ($\\delta = 0.01$)? \n",
        "\n",
        "**Ваш ответ:** Т.к. погрешность метода Монте-Карло есть $\\frac{1}{\\sqrt{n}}$, то для точности $\\delta = 0.01$ необходимо $n = 10000$ выборок.\n"
      ]
    },
    {
      "cell_type": "markdown",
      "metadata": {},
      "source": [
        "**1.** Генерация выборок для оценки"
      ]
    },
    {
      "cell_type": "markdown",
      "metadata": {},
      "source": [
        "Сгенерируйте набор выборок из нормального распределения $\\mathcal{N}(\\theta, 1)$ при $\\theta=0$"
      ]
    },
    {
      "cell_type": "code",
      "execution_count": 43,
      "metadata": {},
      "outputs": [],
      "source": [
        "theta = 0  # истинное значение параметра\n",
        "sample_size = 300\n",
        "sample_count = 10000\n",
        "X = np.random.normal(loc=theta, scale=1, size = (sample_count, sample_size))"
      ]
    },
    {
      "cell_type": "markdown",
      "metadata": {},
      "source": [
        "**2.** Построение ТДИ\n",
        "\n",
        "На лекции вы получали формулу для точного доверительного интервала для $a$ в нормальной модели\n",
        "\n",
        "Точный доверительный интервал: $\\theta \\in \\Big(\\overline{X} \\pm \\frac{T_{n-1, \\frac{1+\\alpha}{2}}}{\\sqrt{n-1}}S \\Big)$, где $S^2$ - состоятельная оценка дисперсии.\n",
        "\n",
        "**Вопрос:** чем этот интервал лучше предыдущего?\n",
        "\n",
        "**Ваш ответ:** Точный доверительный интервал лучше асимптотического тем, что его уровень доверия не зависит от размера выборки, тогда как асимптотический доверительный интервал гарантирует нужный уровень доверия только при больших размерах выборки.\n",
        "\n",
        "Постройте график реального уровня доверия интервала от размера выборки для этого вида интервала. График начинайте с $n=2$. Сравните его поведение с асимптотическим ДИ. "
      ]
    },
    {
      "cell_type": "code",
      "execution_count": 46,
      "metadata": {},
      "outputs": [],
      "source": [
        "from scipy.stats import t, norm\n",
        "alpha = 0.95\n",
        "exact = []\n",
        "asymp = []\n",
        "sample_sizes = np.arange(2, sample_size + 1)\n",
        "for n in sample_sizes:\n",
        "    samples = X[:, :n]\n",
        "    x_mean = np.mean(samples, axis=1)\n",
        "    s = np.std(samples, axis=1, ddof=1)\n",
        "\n",
        "    t_quantile = t.ppf((1+alpha)/2, df = n-1)\n",
        "    exact_left = x_mean - t_quantile * s / np.sqrt(n-1)\n",
        "    exact_right = x_mean + t_quantile * s / np.sqrt(n-1)\n",
        "\n",
        "    z_quantile = norm.ppf((1+alpha)/2)\n",
        "    asymp_left = x_mean - z_quantile * s / np.sqrt(n)\n",
        "    asymp_right = x_mean + z_quantile * s / np.sqrt(n)\n",
        "\n",
        "    exact.append(np.mean((exact_left < theta) & ( theta < exact_right)))\n",
        "    asymp.append(np.mean((asymp_left < theta) & (theta < asymp_right)))\n",
        "\n",
        "\n",
        "\n",
        "\n",
        "    \n"
      ]
    },
    {
      "cell_type": "code",
      "execution_count": 47,
      "metadata": {},
      "outputs": [
        {
          "data": {
            "image/png": "[encoded data removed]",
            "text/plain": [
              "<Figure size 1200x800 with 1 Axes>"
            ]
          },
          "metadata": {},
          "output_type": "display_data"
        }
      ],
      "source": [
        "plt.figure(figsize=(12,8))\n",
        "plt.plot(sample_sizes, exact, label='Точный ДИ (t-распределение)', color='blue')\n",
        "plt.plot(sample_sizes, asymp, label='Асимптотический ДИ (нормальное распределение)', color='red', linestyle='--')\n",
        "plt.axhline(y=0.95, color='black', linestyle=':', label='Номинальный уровень (95%)')\n",
        "\n",
        "plt.xlabel('Размер выборки (n)')\n",
        "plt.ylabel('Доля покрытия')\n",
        "plt.title('Реальный уровень доверия')\n",
        "plt.legend()\n",
        "plt.grid(True)\n",
        "plt.show()"
      ]
    },
    {
      "cell_type": "markdown",
      "metadata": {},
      "source": [
        "**Вывод:** Видим, что в пределах погрешности уровень доверия, гарантированный точным доверительным интервалом (ТДИ) не зависит от размера выборки. В то же время для асимптотического доверительного интервала (АДИ) реальный уровень доверия на малых размерах выборки сильно меньше номинального, но уже при $n \\approx 100$ практически совпадает с ним в пределах некоторой погрешности."
      ]
    }
  ],
  "metadata": {
    "colab": {
      "provenance": []
    },
    "kernelspec": {
      "display_name": "base",
      "language": "python",
      "name": "python3"
    },
    "language_info": {
      "codemirror_mode": {
        "name": "ipython",
        "version": 3
      },
      "file_extension": ".py",
      "mimetype": "text/x-python",
      "name": "python",
      "nbconvert_exporter": "python",
      "pygments_lexer": "ipython3",
      "version": "3.11.5"
    }
  },
  "nbformat": 4,
  "nbformat_minor": 1
}
